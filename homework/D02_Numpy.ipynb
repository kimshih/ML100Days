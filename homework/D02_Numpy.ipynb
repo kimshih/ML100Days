{
 "cells": [
  {
   "cell_type": "code",
   "execution_count": 1,
   "metadata": {
    "code_folding": [],
    "hidden_ranges": [],
    "originalKey": "4d0a94fa-34ae-4a5e-a89e-c013bba785d2"
   },
   "outputs": [],
   "source": [
    "import numpy as np"
   ]
  },
  {
   "cell_type": "markdown",
   "metadata": {
    "code_folding": [],
    "customInput": null,
    "hidden_ranges": [],
    "originalKey": "e364bfde-598d-4561-858b-5048ab924921",
    "showInput": false
   },
   "source": [
    " 題目:\n",
    "#### 1.將下列陣列(array1)，轉成維度為(5X6)的array，順序按列填充。(hint:order=\"F\")\n",
    "#### 2.呈上題的array，找出被6除餘1的數的索引"
   ]
  },
  {
   "cell_type": "code",
   "execution_count": 4,
   "metadata": {
    "originalKey": "280bb119-9004-4df4-ad87-568782b97ec4"
   },
   "outputs": [],
   "source": [
    "#1.將下列清單(list1)，轉成維度為(5X6)的array，順序按列填充。(hint:order=\"F\")\n",
    "array1 = np.array(range(30))"
   ]
  },
  {
   "cell_type": "code",
   "execution_count": 5,
   "metadata": {
    "code_folding": [],
    "hidden_ranges": [],
    "originalKey": "fd75965d-f57d-457a-a9db-2d7bfb10ee53"
   },
   "outputs": [
    {
     "data": {
      "text/plain": [
       "array([ 0,  1,  2,  3,  4,  5,  6,  7,  8,  9, 10, 11, 12, 13, 14, 15, 16,\n",
       "       17, 18, 19, 20, 21, 22, 23, 24, 25, 26, 27, 28, 29])"
      ]
     },
     "execution_count": 5,
     "metadata": {
      "bento_obj_id": "139653544165248"
     },
     "output_type": "execute_result"
    }
   ],
   "source": [
    "array1"
   ]
  },
  {
   "cell_type": "code",
   "execution_count": 19,
   "metadata": {
    "code_folding": [],
    "hidden_ranges": [],
    "originalKey": "299af64e-84e6-4ca3-8716-993e8456f6b8"
   },
   "outputs": [],
   "source": [
    "b = array1.reshape(6,5).ravel(order = 'F')"
   ]
  },
  {
   "cell_type": "code",
   "execution_count": 20,
   "metadata": {
    "code_folding": [],
    "hidden_ranges": [],
    "originalKey": "0922ee66-5258-4e61-82b9-5a0fe4819e9c"
   },
   "outputs": [
    {
     "data": {
      "text/plain": [
       "array([ 0,  5, 10, 15, 20, 25,  1,  6, 11, 16, 21, 26,  2,  7, 12, 17, 22,\n",
       "       27,  3,  8, 13, 18, 23, 28,  4,  9, 14, 19, 24, 29])"
      ]
     },
     "execution_count": 20,
     "metadata": {
      "bento_obj_id": "139653526311840"
     },
     "output_type": "execute_result"
    }
   ],
   "source": [
    "b"
   ]
  },
  {
   "cell_type": "code",
   "execution_count": 26,
   "metadata": {
    "code_folding": [],
    "hidden_ranges": [],
    "originalKey": "7ecdbc70-053f-410a-aacc-96e6818711e3"
   },
   "outputs": [
    {
     "data": {
      "text/plain": [
       "array([[ 0,  5, 10, 15, 20, 25],\n",
       "       [ 1,  6, 11, 16, 21, 26],\n",
       "       [ 2,  7, 12, 17, 22, 27],\n",
       "       [ 3,  8, 13, 18, 23, 28],\n",
       "       [ 4,  9, 14, 19, 24, 29]])"
      ]
     },
     "execution_count": 26,
     "metadata": {
      "bento_obj_id": "139653660829056"
     },
     "output_type": "execute_result"
    }
   ],
   "source": [
    "c = b.reshape(5,6)\n",
    "c"
   ]
  },
  {
   "cell_type": "code",
   "execution_count": 27,
   "metadata": {
    "code_folding": [],
    "hidden_ranges": [],
    "originalKey": "208487c2-4bbe-45fd-950a-575e6fe4237f"
   },
   "outputs": [
    {
     "data": {
      "text/plain": [
       "(array([0, 1, 2, 3, 4]), array([5, 0, 1, 2, 3]))"
      ]
     },
     "execution_count": 27,
     "metadata": {
      "bento_obj_id": "139653660678528"
     },
     "output_type": "execute_result"
    }
   ],
   "source": [
    "np.where(c % 6 == 1)"
   ]
  }
 ],
 "metadata": {
  "bento_stylesheets": {
   "bento/extensions/flow/main.css": true,
   "bento/extensions/kernel_selector/main.css": true,
   "bento/extensions/kernel_ui/main.css": true,
   "bento/extensions/new_kernel/main.css": true,
   "bento/extensions/system_usage/main.css": true,
   "bento/extensions/theme/main.css": true
  },
  "disseminate_notebook_id": {
   "notebook_id": "898481257582349"
  },
  "disseminate_notebook_info": {
   "data_retention_policy": "default",
   "description": "A new Jupyter notebook",
   "hide_code": false,
   "no_uii": false,
   "notebook_number": "478927",
   "others_can_edit": false,
   "revision_id": 2832863380328828,
   "tags": "python",
   "title": "D02 - Numpy"
  },
  "kernelspec": {
   "display_name": "Python 3",
   "language": "python",
   "name": "python3"
  },
  "language_info": {
   "codemirror_mode": {
    "name": "ipython",
    "version": 3
   },
   "file_extension": ".py",
   "mimetype": "text/x-python",
   "name": "python",
   "nbconvert_exporter": "python",
   "pygments_lexer": "ipython3",
   "version": "3.8.6"
  }
 },
 "nbformat": 4,
 "nbformat_minor": 2
}
